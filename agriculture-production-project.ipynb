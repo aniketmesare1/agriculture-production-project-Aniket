{
 "cells": [
  {
   "cell_type": "markdown",
   "id": "hundred-gentleman",
   "metadata": {
    "papermill": {
     "duration": 0.027694,
     "end_time": "2021-05-25T18:34:37.079612",
     "exception": false,
     "start_time": "2021-05-25T18:34:37.051918",
     "status": "completed"
    },
    "tags": []
   },
   "source": [
    "# Agriculture Production Optimization Engine\n",
    "### Problem Statement:- Build a predictive model so as to suggest the most suitable crops to grow based on the available climatic and soil conditions.\n",
    "\n",
    "### Goal:- Achieve precision farming by optimizing the agriculture production."
   ]
  },
  {
   "cell_type": "markdown",
   "id": "social-child",
   "metadata": {
    "papermill": {
     "duration": 0.026094,
     "end_time": "2021-05-25T18:34:37.132292",
     "exception": false,
     "start_time": "2021-05-25T18:34:37.106198",
     "status": "completed"
    },
    "tags": []
   },
   "source": [
    "__This Project Is Intended On Precision farming__\n",
    "- We have to optimize productivity\n",
    "- By understanding requirements of climatic and soil conditions for crops.\n",
    "- Helps us to cope up with weather unpredictability."
   ]
  },
  {
   "cell_type": "code",
   "execution_count": 1,
   "id": "collective-communications",
   "metadata": {
    "execution": {
     "iopub.execute_input": "2021-05-25T18:34:37.203790Z",
     "iopub.status.busy": "2021-05-25T18:34:37.192333Z",
     "iopub.status.idle": "2021-05-25T18:34:45.109040Z",
     "shell.execute_reply": "2021-05-25T18:34:45.109594Z",
     "shell.execute_reply.started": "2021-05-25T18:32:35.973540Z"
    },
    "papermill": {
     "duration": 7.949767,
     "end_time": "2021-05-25T18:34:45.109877",
     "exception": false,
     "start_time": "2021-05-25T18:34:37.160110",
     "status": "completed"
    },
    "tags": []
   },
   "outputs": [
    {
     "name": "stdout",
     "output_type": "stream",
     "text": [
      "Requirement already satisfied: ipywidgets in /opt/conda/lib/python3.7/site-packages (7.6.3)\r\n",
      "Requirement already satisfied: ipython>=4.0.0 in /opt/conda/lib/python3.7/site-packages (from ipywidgets) (7.20.0)\r\n",
      "Requirement already satisfied: traitlets>=4.3.1 in /opt/conda/lib/python3.7/site-packages (from ipywidgets) (5.0.5)\r\n",
      "Requirement already satisfied: nbformat>=4.2.0 in /opt/conda/lib/python3.7/site-packages (from ipywidgets) (5.1.2)\r\n",
      "Requirement already satisfied: jupyterlab-widgets>=1.0.0 in /opt/conda/lib/python3.7/site-packages (from ipywidgets) (1.0.0)\r\n",
      "Requirement already satisfied: ipykernel>=4.5.1 in /opt/conda/lib/python3.7/site-packages (from ipywidgets) (5.1.1)\r\n",
      "Requirement already satisfied: widgetsnbextension~=3.5.0 in /opt/conda/lib/python3.7/site-packages (from ipywidgets) (3.5.1)\r\n",
      "Requirement already satisfied: tornado>=4.2 in /opt/conda/lib/python3.7/site-packages (from ipykernel>=4.5.1->ipywidgets) (5.0.2)\r\n",
      "Requirement already satisfied: jupyter-client in /opt/conda/lib/python3.7/site-packages (from ipykernel>=4.5.1->ipywidgets) (6.1.11)\r\n",
      "Requirement already satisfied: pickleshare in /opt/conda/lib/python3.7/site-packages (from ipython>=4.0.0->ipywidgets) (0.7.5)\r\n",
      "Requirement already satisfied: prompt-toolkit!=3.0.0,!=3.0.1,<3.1.0,>=2.0.0 in /opt/conda/lib/python3.7/site-packages (from ipython>=4.0.0->ipywidgets) (3.0.16)\r\n",
      "Requirement already satisfied: decorator in /opt/conda/lib/python3.7/site-packages (from ipython>=4.0.0->ipywidgets) (4.4.2)\r\n",
      "Requirement already satisfied: setuptools>=18.5 in /opt/conda/lib/python3.7/site-packages (from ipython>=4.0.0->ipywidgets) (49.6.0.post20210108)\r\n",
      "Requirement already satisfied: pexpect>4.3 in /opt/conda/lib/python3.7/site-packages (from ipython>=4.0.0->ipywidgets) (4.8.0)\r\n",
      "Requirement already satisfied: backcall in /opt/conda/lib/python3.7/site-packages (from ipython>=4.0.0->ipywidgets) (0.2.0)\r\n",
      "Requirement already satisfied: jedi>=0.16 in /opt/conda/lib/python3.7/site-packages (from ipython>=4.0.0->ipywidgets) (0.17.2)\r\n",
      "Requirement already satisfied: pygments in /opt/conda/lib/python3.7/site-packages (from ipython>=4.0.0->ipywidgets) (2.8.0)\r\n",
      "Requirement already satisfied: parso<0.8.0,>=0.7.0 in /opt/conda/lib/python3.7/site-packages (from jedi>=0.16->ipython>=4.0.0->ipywidgets) (0.7.1)\r\n",
      "Requirement already satisfied: jsonschema!=2.5.0,>=2.4 in /opt/conda/lib/python3.7/site-packages (from nbformat>=4.2.0->ipywidgets) (3.2.0)\r\n",
      "Requirement already satisfied: jupyter-core in /opt/conda/lib/python3.7/site-packages (from nbformat>=4.2.0->ipywidgets) (4.7.1)\r\n",
      "Requirement already satisfied: ipython-genutils in /opt/conda/lib/python3.7/site-packages (from nbformat>=4.2.0->ipywidgets) (0.2.0)\r\n",
      "Requirement already satisfied: importlib-metadata in /opt/conda/lib/python3.7/site-packages (from jsonschema!=2.5.0,>=2.4->nbformat>=4.2.0->ipywidgets) (3.4.0)\r\n",
      "Requirement already satisfied: pyrsistent>=0.14.0 in /opt/conda/lib/python3.7/site-packages (from jsonschema!=2.5.0,>=2.4->nbformat>=4.2.0->ipywidgets) (0.17.3)\r\n",
      "Requirement already satisfied: attrs>=17.4.0 in /opt/conda/lib/python3.7/site-packages (from jsonschema!=2.5.0,>=2.4->nbformat>=4.2.0->ipywidgets) (20.3.0)\r\n",
      "Requirement already satisfied: six>=1.11.0 in /opt/conda/lib/python3.7/site-packages (from jsonschema!=2.5.0,>=2.4->nbformat>=4.2.0->ipywidgets) (1.15.0)\r\n",
      "Requirement already satisfied: ptyprocess>=0.5 in /opt/conda/lib/python3.7/site-packages (from pexpect>4.3->ipython>=4.0.0->ipywidgets) (0.7.0)\r\n",
      "Requirement already satisfied: wcwidth in /opt/conda/lib/python3.7/site-packages (from prompt-toolkit!=3.0.0,!=3.0.1,<3.1.0,>=2.0.0->ipython>=4.0.0->ipywidgets) (0.2.5)\r\n",
      "Requirement already satisfied: notebook>=4.4.1 in /opt/conda/lib/python3.7/site-packages (from widgetsnbextension~=3.5.0->ipywidgets) (5.5.0)\r\n",
      "Requirement already satisfied: jinja2 in /opt/conda/lib/python3.7/site-packages (from notebook>=4.4.1->widgetsnbextension~=3.5.0->ipywidgets) (2.11.3)\r\n",
      "Requirement already satisfied: Send2Trash in /opt/conda/lib/python3.7/site-packages (from notebook>=4.4.1->widgetsnbextension~=3.5.0->ipywidgets) (1.5.0)\r\n",
      "Requirement already satisfied: pyzmq>=17 in /opt/conda/lib/python3.7/site-packages (from notebook>=4.4.1->widgetsnbextension~=3.5.0->ipywidgets) (22.0.3)\r\n",
      "Requirement already satisfied: nbconvert in /opt/conda/lib/python3.7/site-packages (from notebook>=4.4.1->widgetsnbextension~=3.5.0->ipywidgets) (6.0.7)\r\n",
      "Requirement already satisfied: terminado>=0.8.1 in /opt/conda/lib/python3.7/site-packages (from notebook>=4.4.1->widgetsnbextension~=3.5.0->ipywidgets) (0.9.2)\r\n",
      "Requirement already satisfied: python-dateutil>=2.1 in /opt/conda/lib/python3.7/site-packages (from jupyter-client->ipykernel>=4.5.1->ipywidgets) (2.8.1)\r\n",
      "Requirement already satisfied: typing-extensions>=3.6.4 in /opt/conda/lib/python3.7/site-packages (from importlib-metadata->jsonschema!=2.5.0,>=2.4->nbformat>=4.2.0->ipywidgets) (3.7.4.3)\r\n",
      "Requirement already satisfied: zipp>=0.5 in /opt/conda/lib/python3.7/site-packages (from importlib-metadata->jsonschema!=2.5.0,>=2.4->nbformat>=4.2.0->ipywidgets) (3.4.0)\r\n",
      "Requirement already satisfied: MarkupSafe>=0.23 in /opt/conda/lib/python3.7/site-packages (from jinja2->notebook>=4.4.1->widgetsnbextension~=3.5.0->ipywidgets) (1.1.1)\r\n",
      "Requirement already satisfied: jupyterlab-pygments in /opt/conda/lib/python3.7/site-packages (from nbconvert->notebook>=4.4.1->widgetsnbextension~=3.5.0->ipywidgets) (0.1.2)\r\n",
      "Requirement already satisfied: entrypoints>=0.2.2 in /opt/conda/lib/python3.7/site-packages (from nbconvert->notebook>=4.4.1->widgetsnbextension~=3.5.0->ipywidgets) (0.3)\r\n",
      "Requirement already satisfied: nbclient<0.6.0,>=0.5.0 in /opt/conda/lib/python3.7/site-packages (from nbconvert->notebook>=4.4.1->widgetsnbextension~=3.5.0->ipywidgets) (0.5.2)\r\n",
      "Requirement already satisfied: defusedxml in /opt/conda/lib/python3.7/site-packages (from nbconvert->notebook>=4.4.1->widgetsnbextension~=3.5.0->ipywidgets) (0.6.0)\r\n",
      "Requirement already satisfied: bleach in /opt/conda/lib/python3.7/site-packages (from nbconvert->notebook>=4.4.1->widgetsnbextension~=3.5.0->ipywidgets) (3.3.0)\r\n",
      "Requirement already satisfied: mistune<2,>=0.8.1 in /opt/conda/lib/python3.7/site-packages (from nbconvert->notebook>=4.4.1->widgetsnbextension~=3.5.0->ipywidgets) (0.8.4)\r\n",
      "Requirement already satisfied: testpath in /opt/conda/lib/python3.7/site-packages (from nbconvert->notebook>=4.4.1->widgetsnbextension~=3.5.0->ipywidgets) (0.4.4)\r\n",
      "Requirement already satisfied: pandocfilters>=1.4.1 in /opt/conda/lib/python3.7/site-packages (from nbconvert->notebook>=4.4.1->widgetsnbextension~=3.5.0->ipywidgets) (1.4.2)\r\n",
      "Requirement already satisfied: nest-asyncio in /opt/conda/lib/python3.7/site-packages (from nbclient<0.6.0,>=0.5.0->nbconvert->notebook>=4.4.1->widgetsnbextension~=3.5.0->ipywidgets) (1.4.3)\r\n",
      "Requirement already satisfied: async-generator in /opt/conda/lib/python3.7/site-packages (from nbclient<0.6.0,>=0.5.0->nbconvert->notebook>=4.4.1->widgetsnbextension~=3.5.0->ipywidgets) (1.10)\r\n",
      "Requirement already satisfied: webencodings in /opt/conda/lib/python3.7/site-packages (from bleach->nbconvert->notebook>=4.4.1->widgetsnbextension~=3.5.0->ipywidgets) (0.5.1)\r\n",
      "Requirement already satisfied: packaging in /opt/conda/lib/python3.7/site-packages (from bleach->nbconvert->notebook>=4.4.1->widgetsnbextension~=3.5.0->ipywidgets) (20.9)\r\n",
      "Requirement already satisfied: pyparsing>=2.0.2 in /opt/conda/lib/python3.7/site-packages (from packaging->bleach->nbconvert->notebook>=4.4.1->widgetsnbextension~=3.5.0->ipywidgets) (2.4.7)\r\n",
      "Note: you may need to restart the kernel to use updated packages.\n"
     ]
    }
   ],
   "source": [
    "pip install ipywidgets"
   ]
  },
  {
   "cell_type": "code",
   "execution_count": 2,
   "id": "blessed-biodiversity",
   "metadata": {
    "execution": {
     "iopub.execute_input": "2021-05-25T18:34:45.177060Z",
     "iopub.status.busy": "2021-05-25T18:34:45.176414Z",
     "iopub.status.idle": "2021-05-25T18:34:46.079189Z",
     "shell.execute_reply": "2021-05-25T18:34:46.078090Z",
     "shell.execute_reply.started": "2021-05-25T18:32:43.129843Z"
    },
    "papermill": {
     "duration": 0.938979,
     "end_time": "2021-05-25T18:34:46.079382",
     "exception": false,
     "start_time": "2021-05-25T18:34:45.140403",
     "status": "completed"
    },
    "tags": []
   },
   "outputs": [],
   "source": [
    "# For manupilations\n",
    "import pandas as pd \n",
    "import numpy as np\n",
    "\n",
    "# For data visualizations\n",
    "import matplotlib.pyplot as plt\n",
    "import seaborn as sns\n",
    "\n",
    "# For interactivity\n",
    "from ipywidgets import interact\n",
    "%matplotlib inline"
   ]
  },
  {
   "cell_type": "code",
   "execution_count": 3,
   "id": "massive-mason",
   "metadata": {
    "execution": {
     "iopub.execute_input": "2021-05-25T18:34:46.145658Z",
     "iopub.status.busy": "2021-05-25T18:34:46.144884Z",
     "iopub.status.idle": "2021-05-25T18:34:46.167936Z",
     "shell.execute_reply": "2021-05-25T18:34:46.167356Z",
     "shell.execute_reply.started": "2021-05-25T18:32:43.138139Z"
    },
    "papermill": {
     "duration": 0.05844,
     "end_time": "2021-05-25T18:34:46.168081",
     "exception": false,
     "start_time": "2021-05-25T18:34:46.109641",
     "status": "completed"
    },
    "tags": []
   },
   "outputs": [],
   "source": [
    "# Let's read the dataset\n",
    "data=pd.read_csv('../input/dataset/data.csv')"
   ]
  },
  {
   "cell_type": "code",
   "execution_count": 4,
   "id": "banner-shore",
   "metadata": {
    "execution": {
     "iopub.execute_input": "2021-05-25T18:34:46.233488Z",
     "iopub.status.busy": "2021-05-25T18:34:46.232501Z",
     "iopub.status.idle": "2021-05-25T18:34:46.238342Z",
     "shell.execute_reply": "2021-05-25T18:34:46.238826Z",
     "shell.execute_reply.started": "2021-05-25T18:32:43.180887Z"
    },
    "papermill": {
     "duration": 0.039786,
     "end_time": "2021-05-25T18:34:46.238998",
     "exception": false,
     "start_time": "2021-05-25T18:34:46.199212",
     "status": "completed"
    },
    "tags": []
   },
   "outputs": [
    {
     "name": "stdout",
     "output_type": "stream",
     "text": [
      "shape of the dataset: (2200, 8)\n"
     ]
    }
   ],
   "source": [
    "# Let's check the shape of dataset\n",
    "print('shape of the dataset:',data.shape)"
   ]
  },
  {
   "cell_type": "code",
   "execution_count": 5,
   "id": "thirty-hartford",
   "metadata": {
    "execution": {
     "iopub.execute_input": "2021-05-25T18:34:46.312927Z",
     "iopub.status.busy": "2021-05-25T18:34:46.312275Z",
     "iopub.status.idle": "2021-05-25T18:34:46.333757Z",
     "shell.execute_reply": "2021-05-25T18:34:46.333203Z",
     "shell.execute_reply.started": "2021-05-25T18:32:43.189185Z"
    },
    "papermill": {
     "duration": 0.064541,
     "end_time": "2021-05-25T18:34:46.333891",
     "exception": false,
     "start_time": "2021-05-25T18:34:46.269350",
     "status": "completed"
    },
    "tags": []
   },
   "outputs": [
    {
     "data": {
      "text/html": [
       "<div>\n",
       "<style scoped>\n",
       "    .dataframe tbody tr th:only-of-type {\n",
       "        vertical-align: middle;\n",
       "    }\n",
       "\n",
       "    .dataframe tbody tr th {\n",
       "        vertical-align: top;\n",
       "    }\n",
       "\n",
       "    .dataframe thead th {\n",
       "        text-align: right;\n",
       "    }\n",
       "</style>\n",
       "<table border=\"1\" class=\"dataframe\">\n",
       "  <thead>\n",
       "    <tr style=\"text-align: right;\">\n",
       "      <th></th>\n",
       "      <th>N</th>\n",
       "      <th>P</th>\n",
       "      <th>K</th>\n",
       "      <th>temperature</th>\n",
       "      <th>humidity</th>\n",
       "      <th>ph</th>\n",
       "      <th>rainfall</th>\n",
       "      <th>label</th>\n",
       "    </tr>\n",
       "  </thead>\n",
       "  <tbody>\n",
       "    <tr>\n",
       "      <th>0</th>\n",
       "      <td>90</td>\n",
       "      <td>42</td>\n",
       "      <td>43</td>\n",
       "      <td>20.879744</td>\n",
       "      <td>82.002744</td>\n",
       "      <td>6.502985</td>\n",
       "      <td>202.935536</td>\n",
       "      <td>rice</td>\n",
       "    </tr>\n",
       "    <tr>\n",
       "      <th>1</th>\n",
       "      <td>85</td>\n",
       "      <td>58</td>\n",
       "      <td>41</td>\n",
       "      <td>21.770462</td>\n",
       "      <td>80.319644</td>\n",
       "      <td>7.038096</td>\n",
       "      <td>226.655537</td>\n",
       "      <td>rice</td>\n",
       "    </tr>\n",
       "    <tr>\n",
       "      <th>2</th>\n",
       "      <td>60</td>\n",
       "      <td>55</td>\n",
       "      <td>44</td>\n",
       "      <td>23.004459</td>\n",
       "      <td>82.320763</td>\n",
       "      <td>7.840207</td>\n",
       "      <td>263.964248</td>\n",
       "      <td>rice</td>\n",
       "    </tr>\n",
       "    <tr>\n",
       "      <th>3</th>\n",
       "      <td>74</td>\n",
       "      <td>35</td>\n",
       "      <td>40</td>\n",
       "      <td>26.491096</td>\n",
       "      <td>80.158363</td>\n",
       "      <td>6.980401</td>\n",
       "      <td>242.864034</td>\n",
       "      <td>rice</td>\n",
       "    </tr>\n",
       "    <tr>\n",
       "      <th>4</th>\n",
       "      <td>78</td>\n",
       "      <td>42</td>\n",
       "      <td>42</td>\n",
       "      <td>20.130175</td>\n",
       "      <td>81.604873</td>\n",
       "      <td>7.628473</td>\n",
       "      <td>262.717340</td>\n",
       "      <td>rice</td>\n",
       "    </tr>\n",
       "  </tbody>\n",
       "</table>\n",
       "</div>"
      ],
      "text/plain": [
       "    N   P   K  temperature   humidity        ph    rainfall label\n",
       "0  90  42  43    20.879744  82.002744  6.502985  202.935536  rice\n",
       "1  85  58  41    21.770462  80.319644  7.038096  226.655537  rice\n",
       "2  60  55  44    23.004459  82.320763  7.840207  263.964248  rice\n",
       "3  74  35  40    26.491096  80.158363  6.980401  242.864034  rice\n",
       "4  78  42  42    20.130175  81.604873  7.628473  262.717340  rice"
      ]
     },
     "execution_count": 5,
     "metadata": {},
     "output_type": "execute_result"
    }
   ],
   "source": [
    "# Let's check the head of the dataset\n",
    "data.head()"
   ]
  },
  {
   "cell_type": "markdown",
   "id": "fifty-terry",
   "metadata": {
    "papermill": {
     "duration": 0.030605,
     "end_time": "2021-05-25T18:34:46.395420",
     "exception": false,
     "start_time": "2021-05-25T18:34:46.364815",
     "status": "completed"
    },
    "tags": []
   },
   "source": [
    "# Exploratary Analysis"
   ]
  },
  {
   "cell_type": "code",
   "execution_count": 6,
   "id": "median-depth",
   "metadata": {
    "execution": {
     "iopub.execute_input": "2021-05-25T18:34:46.460108Z",
     "iopub.status.busy": "2021-05-25T18:34:46.459461Z",
     "iopub.status.idle": "2021-05-25T18:34:46.467489Z",
     "shell.execute_reply": "2021-05-25T18:34:46.467939Z",
     "shell.execute_reply.started": "2021-05-25T18:32:43.238809Z"
    },
    "papermill": {
     "duration": 0.041935,
     "end_time": "2021-05-25T18:34:46.468105",
     "exception": false,
     "start_time": "2021-05-25T18:34:46.426170",
     "status": "completed"
    },
    "tags": []
   },
   "outputs": [
    {
     "data": {
      "text/plain": [
       "N              0\n",
       "P              0\n",
       "K              0\n",
       "temperature    0\n",
       "humidity       0\n",
       "ph             0\n",
       "rainfall       0\n",
       "label          0\n",
       "dtype: int64"
      ]
     },
     "execution_count": 6,
     "metadata": {},
     "output_type": "execute_result"
    }
   ],
   "source": [
    "# Let's check if there is any missing value present in the dataset\n",
    "data.isnull().sum()"
   ]
  },
  {
   "cell_type": "markdown",
   "id": "arranged-creativity",
   "metadata": {
    "papermill": {
     "duration": 0.031521,
     "end_time": "2021-05-25T18:34:46.530959",
     "exception": false,
     "start_time": "2021-05-25T18:34:46.499438",
     "status": "completed"
    },
    "tags": []
   },
   "source": [
    "There is no missing values but if any dataset have missing values then follow these steps:-\n",
    "- Fill-NA function is used to replace these missing values such as mean,median or mode.\n",
    "- NA means Not Available\n",
    "- Pandas have functions like fill-NA to treat missing values\n",
    "- If in your dataset have any numerical column with missing value then you can use mean value to replace missing values.\n",
    "- If in your datset have any categorical column with missing values then you can use mode value to replace missing values.\n",
    "- If in your data have so many outliers so you can use median value."
   ]
  },
  {
   "cell_type": "code",
   "execution_count": 7,
   "id": "future-framework",
   "metadata": {
    "execution": {
     "iopub.execute_input": "2021-05-25T18:34:46.603366Z",
     "iopub.status.busy": "2021-05-25T18:34:46.602444Z",
     "iopub.status.idle": "2021-05-25T18:34:46.606094Z",
     "shell.execute_reply": "2021-05-25T18:34:46.606562Z",
     "shell.execute_reply.started": "2021-05-25T18:32:43.251640Z"
    },
    "papermill": {
     "duration": 0.044241,
     "end_time": "2021-05-25T18:34:46.606723",
     "exception": false,
     "start_time": "2021-05-25T18:34:46.562482",
     "status": "completed"
    },
    "tags": []
   },
   "outputs": [
    {
     "data": {
      "text/plain": [
       "kidneybeans    100\n",
       "coconut        100\n",
       "pigeonpeas     100\n",
       "pomegranate    100\n",
       "lentil         100\n",
       "papaya         100\n",
       "muskmelon      100\n",
       "watermelon     100\n",
       "chickpea       100\n",
       "banana         100\n",
       "orange         100\n",
       "coffee         100\n",
       "mothbeans      100\n",
       "mango          100\n",
       "cotton         100\n",
       "blackgram      100\n",
       "jute           100\n",
       "rice           100\n",
       "grapes         100\n",
       "mungbean       100\n",
       "apple          100\n",
       "maize          100\n",
       "Name: label, dtype: int64"
      ]
     },
     "execution_count": 7,
     "metadata": {},
     "output_type": "execute_result"
    }
   ],
   "source": [
    "# Let's check the crops present in this dataset\n",
    "data['label'].value_counts()"
   ]
  },
  {
   "cell_type": "code",
   "execution_count": 8,
   "id": "recognized-comedy",
   "metadata": {
    "execution": {
     "iopub.execute_input": "2021-05-25T18:34:46.673415Z",
     "iopub.status.busy": "2021-05-25T18:34:46.672471Z",
     "iopub.status.idle": "2021-05-25T18:34:46.683325Z",
     "shell.execute_reply": "2021-05-25T18:34:46.682762Z",
     "shell.execute_reply.started": "2021-05-25T18:32:43.275283Z"
    },
    "papermill": {
     "duration": 0.045265,
     "end_time": "2021-05-25T18:34:46.683468",
     "exception": false,
     "start_time": "2021-05-25T18:34:46.638203",
     "status": "completed"
    },
    "tags": []
   },
   "outputs": [
    {
     "name": "stdout",
     "output_type": "stream",
     "text": [
      "Average ratio of nitrogen in the soil : 50.55\n",
      "Average ratio of phosphorous in the soil : 53.36\n",
      "Average ratio of potassium in the soil: 48.15\n",
      "Average tempature in celsius : 25.62\n",
      "Average relative humidity in : 71.48\n",
      "Average ph value of the soil : 6.47\n",
      "Average rainfall in mm : 103.46\n"
     ]
    }
   ],
   "source": [
    "# Let's check the summary for all the crops\n",
    "print('Average ratio of nitrogen in the soil : {0:.2f}'.format(data['N'].mean()))\n",
    "print('Average ratio of phosphorous in the soil : {0:.2f}'.format(data['P'].mean()))\n",
    "print('Average ratio of potassium in the soil: {0:.2f}'.format(data['K'].mean()))\n",
    "print('Average tempature in celsius : {0:.2f}'.format(data['temperature'].mean()))\n",
    "print('Average relative humidity in : {0:.2f}'.format(data['humidity'].mean()))\n",
    "print('Average ph value of the soil : {0:.2f}'.format(data['ph'].mean()))\n",
    "print('Average rainfall in mm : {0:.2f}'.format(data['rainfall'].mean()))"
   ]
  },
  {
   "cell_type": "markdown",
   "id": "sunrise-chain",
   "metadata": {
    "papermill": {
     "duration": 0.032075,
     "end_time": "2021-05-25T18:34:46.747429",
     "exception": false,
     "start_time": "2021-05-25T18:34:46.715354",
     "status": "completed"
    },
    "tags": []
   },
   "source": [
    "I am using here simply mean function to know about average climatic conditions and soil requirements."
   ]
  },
  {
   "cell_type": "code",
   "execution_count": 9,
   "id": "external-individual",
   "metadata": {
    "execution": {
     "iopub.execute_input": "2021-05-25T18:34:46.846415Z",
     "iopub.status.busy": "2021-05-25T18:34:46.845559Z",
     "iopub.status.idle": "2021-05-25T18:34:46.860460Z",
     "shell.execute_reply": "2021-05-25T18:34:46.859851Z",
     "shell.execute_reply.started": "2021-05-25T18:32:43.293651Z"
    },
    "papermill": {
     "duration": 0.080944,
     "end_time": "2021-05-25T18:34:46.860676",
     "exception": false,
     "start_time": "2021-05-25T18:34:46.779732",
     "status": "completed"
    },
    "tags": []
   },
   "outputs": [
    {
     "data": {
      "application/vnd.jupyter.widget-view+json": {
       "model_id": "2ff9bb32f0e1475e94ed340fec596f38",
       "version_major": 2,
       "version_minor": 0
      },
      "text/plain": [
       "interactive(children=(Dropdown(description='crops', options=('kidneybeans', 'coconut', 'pigeonpeas', 'pomegran…"
      ]
     },
     "metadata": {},
     "output_type": "display_data"
    }
   ],
   "source": [
    "# Let's check the summary statistics  for each of the class\n",
    "@interact\n",
    "def summary(crops = list(data['label'].value_counts().index)):\n",
    "    x=data[data['label']==crops]\n",
    "    print('-----------------------------------------------')\n",
    "    print(\"statistics for nitrogen\")\n",
    "    print('Minimum nitrogen required:',x['N'].min())\n",
    "    print('Average nitrogen required:',x['N'].mean())\n",
    "    print('Maximum nitrogen required:',x['N'].max())\n",
    "    print('-----------------------------------------------')\n",
    "    print(\"statistics for phosphorous\")\n",
    "    print('Minimum phosphorous required:',x['P'].min())\n",
    "    print('Average phosphorous required:',x['P'].mean())\n",
    "    print('Maximum phosphorous required:',x['P'].max())\n",
    "    print('-----------------------------------------------')\n",
    "    print(\"statistics for potassium\")\n",
    "    print('Minimum potassium required:',x['K'].min())\n",
    "    print('Average potassium required:',x['K'].mean())\n",
    "    print('Maximum potassium required:',x['K'].max())\n",
    "    print('-----------------------------------------------')\n",
    "    print(\"statistics for temperature\")\n",
    "    print('Minimum temperature required: {0:.2f}'.format(x['temperature'].min()))\n",
    "    print('Average temperature required: {0:.2f}'.format(x['temperature'].mean()))\n",
    "    print('Maximum temperature required: {0:.2f}'.format(x['temperature'].max()))\n",
    "    print('-----------------------------------------------')\n",
    "    print(\"statistics for humidity\")\n",
    "    print('Minimum humidity required: {0:.2f}'.format(x['humidity'].min()))\n",
    "    print('Average humidity required: {0:.2f}'.format(x['humidity'].mean()))\n",
    "    print('Maximum humidity required: {0:.2f}'.format(x['humidity'].max()))\n",
    "    print('-----------------------------------------------')\n",
    "    print(\"statistics for ph\")\n",
    "    print('Minimum ph required: {0:.2f}'.format(x['ph'].min()))\n",
    "    print('Average ph required: {0:.2f}'.format(x['ph'].mean()))\n",
    "    print('Maximum ph required: {0:.2f}'.format(x['ph'].max()))\n",
    "    print('-----------------------------------------------')\n",
    "    print(\"statistics for rainfall\")\n",
    "    print('Minimum rainfall required: {0:.2f}'.format(x['rainfall'].min()))\n",
    "    print('Average rainfall required: {0:.2f}'.format(x['rainfall'].mean()))\n",
    "    print('Maximum rainfall required: {0:.2f}'.format(x['rainfall'].max()))\n",
    "    \n",
    "    \n",
    "    \n",
    "    "
   ]
  },
  {
   "cell_type": "markdown",
   "id": "colored-guitar",
   "metadata": {
    "papermill": {
     "duration": 0.03329,
     "end_time": "2021-05-25T18:34:46.929781",
     "exception": false,
     "start_time": "2021-05-25T18:34:46.896491",
     "status": "completed"
    },
    "tags": []
   },
   "source": [
    "__Here i am using @interact function becaues of this function this function is so interactive. The drop down menu in result is shows because of this key function. This function can be use only from ipywidgets library. If you will remove this function this function will make again non-interactive.__"
   ]
  },
  {
   "cell_type": "code",
   "execution_count": 10,
   "id": "described-lewis",
   "metadata": {
    "execution": {
     "iopub.execute_input": "2021-05-25T18:34:47.030964Z",
     "iopub.status.busy": "2021-05-25T18:34:47.008758Z",
     "iopub.status.idle": "2021-05-25T18:34:47.063982Z",
     "shell.execute_reply": "2021-05-25T18:34:47.064473Z",
     "shell.execute_reply.started": "2021-05-25T18:32:43.356234Z"
    },
    "papermill": {
     "duration": 0.102064,
     "end_time": "2021-05-25T18:34:47.064657",
     "exception": false,
     "start_time": "2021-05-25T18:34:46.962593",
     "status": "completed"
    },
    "tags": []
   },
   "outputs": [
    {
     "data": {
      "application/vnd.jupyter.widget-view+json": {
       "model_id": "249c97e700cc42bbb828f0f404678e8d",
       "version_major": 2,
       "version_minor": 0
      },
      "text/plain": [
       "interactive(children=(Dropdown(description='conditions', options=('N', 'K', 'P', 'temperature', 'ph', 'humidit…"
      ]
     },
     "metadata": {},
     "output_type": "display_data"
    }
   ],
   "source": [
    "# Let's check the average requirements for each crops with average conditions\n",
    "@interact\n",
    "def compare(conditions=['N','K','P','temperature','ph','humidity','rainfall']):\n",
    "    print('Average value for',conditions,'is {0:.2f}'.format(data[conditions].mean()))\n",
    "    print('----------------------------------------------------------------------')\n",
    "    print('Rice:{0:.2f}'.format(data[(data['label']=='rice')][conditions].mean()))\n",
    "    print('Black Grams:{0:.2f}'.format(data[(data['label']=='blackgram')][conditions].mean()))\n",
    "    print('Banana:{0:.2f}'.format(data[(data['label']=='banana')][conditions].mean()))\n",
    "    print('Jute:{0:.2f}'.format(data[(data['label']=='jute')][conditions].mean()))\n",
    "    print('Coconut:{0:.2f}'.format(data[(data['label']=='coconut')][conditions].mean()))\n",
    "    print('Apple:{0:.2f}'.format(data[(data['label']=='apple')][conditions].mean()))\n",
    "    print('Papaya:{0:.2f}'.format(data[(data['label']=='papaya')][conditions].mean()))\n",
    "    print('Muskmelon:{0:.2f}'.format(data[(data['label']=='muskmelon')][conditions].mean()))\n",
    "    print('Grapes:{0:.2f}'.format(data[(data['label']=='grapes')][conditions].mean()))\n",
    "    print('Watermelon:{0:.2f}'.format(data[(data['label']=='watermelon')][conditions].mean()))\n",
    "    print('Kidney Beans:{0:.2f}'.format(data[(data['label']=='kidneybeans')][conditions].mean()))\n",
    "    print('Mung Beans:{0:.2f}'.format(data[(data['label']=='mungbeans')][conditions].mean()))\n",
    "    print('Oranges:{0:.2f}'.format(data[(data['label']=='oranges')][conditions].mean()))\n",
    "    print('Chick Peas:{0:.2f}'.format(data[(data['label']=='chickpeas')][conditions].mean()))\n",
    "    print('Lentils:{0:.2f}'.format(data[(data['label']=='lentils')][conditions].mean()))\n",
    "    print('Cotton:{0:.2f}'.format(data[(data['label']=='cotton')][conditions].mean()))\n",
    "    print('Maize:{0:.2f}'.format(data[(data['label']=='maize')][conditions].mean()))\n",
    "    print('Moth Beans:{0:.2f}'.format(data[(data['label']=='mothbeans')][conditions].mean()))\n",
    "    print('Pigeon Beans:{0:.2f}'.format(data[(data['label']=='pigeonbeans')][conditions].mean()))\n",
    "    print('Mango:{0:.2f}'.format(data[(data['label']=='mango')][conditions].mean()))\n",
    "    print('Pomegranate:{0:.2f}'.format(data[(data['label']=='pomegranate')][conditions].mean()))\n",
    "    print('Coffee:{0:.2f}'.format(data[(data['label']=='coffee')][conditions].mean()))"
   ]
  },
  {
   "cell_type": "code",
   "execution_count": 11,
   "id": "german-district",
   "metadata": {
    "execution": {
     "iopub.execute_input": "2021-05-25T18:34:47.158020Z",
     "iopub.status.busy": "2021-05-25T18:34:47.157162Z",
     "iopub.status.idle": "2021-05-25T18:34:47.189792Z",
     "shell.execute_reply": "2021-05-25T18:34:47.189232Z",
     "shell.execute_reply.started": "2021-05-25T18:32:43.433619Z"
    },
    "papermill": {
     "duration": 0.090009,
     "end_time": "2021-05-25T18:34:47.189935",
     "exception": false,
     "start_time": "2021-05-25T18:34:47.099926",
     "status": "completed"
    },
    "tags": []
   },
   "outputs": [
    {
     "data": {
      "application/vnd.jupyter.widget-view+json": {
       "model_id": "1b015a859e1144a0a7e4660768e6bb9e",
       "version_major": 2,
       "version_minor": 0
      },
      "text/plain": [
       "interactive(children=(Dropdown(description='conditions', options=('N', 'P', 'K', 'temperature', 'humidity', 'p…"
      ]
     },
     "metadata": {},
     "output_type": "display_data"
    }
   ],
   "source": [
    "# Let's make this function more intuitive\n",
    "@interact\n",
    "def compare(conditions=['N','P','K','temperature','humidity','ph','rainfall']):\n",
    "    print('crops which require greater than average',conditions,'\\n')\n",
    "    print(data[data[conditions]>data[conditions].mean()]['label'].unique())\n",
    "    print('----------------------------------------------')\n",
    "    print('crops which require less than average',conditions,'\\n')\n",
    "    print(data[data[conditions]<data[conditions].mean()]['label'].unique())"
   ]
  },
  {
   "cell_type": "markdown",
   "id": "genetic-titanium",
   "metadata": {
    "papermill": {
     "duration": 0.033259,
     "end_time": "2021-05-25T18:34:47.257463",
     "exception": false,
     "start_time": "2021-05-25T18:34:47.224204",
     "status": "completed"
    },
    "tags": []
   },
   "source": [
    "# Distributions\n",
    "\n",
    "### To check the distribution tells us about the associated occurcenses & patterns between all columns/field. \n",
    "#### From check the distribution we can know about the outliers of particular columns/field."
   ]
  },
  {
   "cell_type": "code",
   "execution_count": 12,
   "id": "federal-cooperation",
   "metadata": {
    "execution": {
     "iopub.execute_input": "2021-05-25T18:34:47.350628Z",
     "iopub.status.busy": "2021-05-25T18:34:47.349878Z",
     "iopub.status.idle": "2021-05-25T18:34:48.822465Z",
     "shell.execute_reply": "2021-05-25T18:34:48.821951Z",
     "shell.execute_reply.started": "2021-05-25T18:32:43.496157Z"
    },
    "papermill": {
     "duration": 1.531512,
     "end_time": "2021-05-25T18:34:48.822634",
     "exception": false,
     "start_time": "2021-05-25T18:34:47.291122",
     "status": "completed"
    },
    "tags": []
   },
   "outputs": [
    {
     "name": "stderr",
     "output_type": "stream",
     "text": [
      "/opt/conda/lib/python3.7/site-packages/seaborn/distributions.py:2557: FutureWarning: `distplot` is a deprecated function and will be removed in a future version. Please adapt your code to use either `displot` (a figure-level function with similar flexibility) or `histplot` (an axes-level function for histograms).\n",
      "  warnings.warn(msg, FutureWarning)\n",
      "/opt/conda/lib/python3.7/site-packages/seaborn/distributions.py:2557: FutureWarning: `distplot` is a deprecated function and will be removed in a future version. Please adapt your code to use either `displot` (a figure-level function with similar flexibility) or `histplot` (an axes-level function for histograms).\n",
      "  warnings.warn(msg, FutureWarning)\n",
      "/opt/conda/lib/python3.7/site-packages/seaborn/distributions.py:2557: FutureWarning: `distplot` is a deprecated function and will be removed in a future version. Please adapt your code to use either `displot` (a figure-level function with similar flexibility) or `histplot` (an axes-level function for histograms).\n",
      "  warnings.warn(msg, FutureWarning)\n",
      "/opt/conda/lib/python3.7/site-packages/seaborn/distributions.py:2557: FutureWarning: `distplot` is a deprecated function and will be removed in a future version. Please adapt your code to use either `displot` (a figure-level function with similar flexibility) or `histplot` (an axes-level function for histograms).\n",
      "  warnings.warn(msg, FutureWarning)\n",
      "/opt/conda/lib/python3.7/site-packages/seaborn/distributions.py:2557: FutureWarning: `distplot` is a deprecated function and will be removed in a future version. Please adapt your code to use either `displot` (a figure-level function with similar flexibility) or `histplot` (an axes-level function for histograms).\n",
      "  warnings.warn(msg, FutureWarning)\n",
      "/opt/conda/lib/python3.7/site-packages/seaborn/distributions.py:2557: FutureWarning: `distplot` is a deprecated function and will be removed in a future version. Please adapt your code to use either `displot` (a figure-level function with similar flexibility) or `histplot` (an axes-level function for histograms).\n",
      "  warnings.warn(msg, FutureWarning)\n",
      "/opt/conda/lib/python3.7/site-packages/seaborn/distributions.py:2557: FutureWarning: `distplot` is a deprecated function and will be removed in a future version. Please adapt your code to use either `displot` (a figure-level function with similar flexibility) or `histplot` (an axes-level function for histograms).\n",
      "  warnings.warn(msg, FutureWarning)\n"
     ]
    },
    {
     "data": {
      "image/png": "[encoded data removed]",
      "text/plain": [
       "<Figure size 720x504 with 7 Axes>"
      ]
     },
     "metadata": {
      "needs_background": "light"
     },
     "output_type": "display_data"
    }
   ],
   "source": [
    "plt.figure(figsize=(10,7))\n",
    "plt.subplot(2,4,1)\n",
    "sns.distplot(data['N'],color='red')\n",
    "plt.xlabel('Ratio Of Nitrogen', fontsize=12)\n",
    "plt.grid()\n",
    "\n",
    "plt.subplot(2,4,2)\n",
    "sns.distplot(data['P'],color='darkblue')\n",
    "plt.xlabel('Ratio Of Phosphorous', fontsize=12)\n",
    "plt.grid()\n",
    "\n",
    "plt.subplot(2,4,3)\n",
    "sns.distplot(data['K'],color='black')\n",
    "plt.xlabel('Ratio Of Potassium', fontsize=12)\n",
    "plt.grid()\n",
    "\n",
    "plt.subplot(2,4,4)\n",
    "sns.distplot(data['temperature'],color='purple')\n",
    "plt.xlabel('Temperature', fontsize=12)\n",
    "plt.grid()\n",
    "\n",
    "plt.subplot(2,4,5)\n",
    "sns.distplot(data['humidity'],color='darkgreen')\n",
    "plt.xlabel('Humidity', fontsize=12)\n",
    "plt.grid()\n",
    "\n",
    "plt.subplot(2,4,6)\n",
    "sns.distplot(data['ph'],color='skyblue')\n",
    "plt.xlabel('Ph Level', fontsize=12)\n",
    "plt.grid()\n",
    "\n",
    "plt.subplot(2,4,7)\n",
    "sns.distplot(data['rainfall'],color='orange')\n",
    "plt.xlabel('Rainfall', fontsize=12)\n",
    "plt.grid()\n",
    "\n",
    "plt.suptitle('Distribution For Agricultural Conditions',fontsize=20)\n",
    "plt.show()"
   ]
  },
  {
   "cell_type": "code",
   "execution_count": 13,
   "id": "fiscal-intent",
   "metadata": {
    "execution": {
     "iopub.execute_input": "2021-05-25T18:34:48.914128Z",
     "iopub.status.busy": "2021-05-25T18:34:48.911834Z",
     "iopub.status.idle": "2021-05-25T18:34:48.918223Z",
     "shell.execute_reply": "2021-05-25T18:34:48.919084Z",
     "shell.execute_reply.started": "2021-05-25T18:32:45.081916Z"
    },
    "papermill": {
     "duration": 0.059533,
     "end_time": "2021-05-25T18:34:48.919361",
     "exception": false,
     "start_time": "2021-05-25T18:34:48.859828",
     "status": "completed"
    },
    "tags": []
   },
   "outputs": [
    {
     "name": "stdout",
     "output_type": "stream",
     "text": [
      "Some Interesting Patterns\n",
      "------------------------\n",
      "Crops which require very high ratio of nitrogen content in soil: ['cotton']\n",
      "Crops which require very high ratio of phosphorous content in soil: ['grapes' 'apple']\n",
      "Crops which require very high ratio of potassium content in soil: ['grapes' 'apple']\n",
      "Crops which require very high rainfall: ['rice' 'papaya' 'coconut']\n",
      "Crops which require very low temperature: ['grapes']\n",
      "Crops which require very high temperature: ['grapes' 'papaya']\n",
      "Crops which require very low humidity: ['chickpea' 'kidneybeans']\n",
      "Crops which require very low ph: ['mothbeans']\n",
      "Crops which require very high ph: ['mothbeans']\n"
     ]
    }
   ],
   "source": [
    "## Using Filter Function\n",
    "print('Some Interesting Patterns')\n",
    "print('------------------------')\n",
    "print('Crops which require very high ratio of nitrogen content in soil:',data[data['N']>120]['label'].unique())\n",
    "print('Crops which require very high ratio of phosphorous content in soil:',data[data['P']>100]['label'].unique())\n",
    "print('Crops which require very high ratio of potassium content in soil:',data[data['K']>200]['label'].unique())\n",
    "print('Crops which require very high rainfall:',data[data['rainfall']>200]['label'].unique())\n",
    "print('Crops which require very low temperature:',data[data['temperature']<10]['label'].unique())\n",
    "print('Crops which require very high temperature:',data[data['temperature']>40]['label'].unique())\n",
    "print('Crops which require very low humidity:',data[data['humidity']<20]['label'].unique())\n",
    "print('Crops which require very low ph:',data[data['ph']<4]['label'].unique())\n",
    "print('Crops which require very high ph:',data[data['ph']>9]['label'].unique())"
   ]
  },
  {
   "cell_type": "code",
   "execution_count": 14,
   "id": "native-blanket",
   "metadata": {
    "execution": {
     "iopub.execute_input": "2021-05-25T18:34:49.006336Z",
     "iopub.status.busy": "2021-05-25T18:34:49.002147Z",
     "iopub.status.idle": "2021-05-25T18:34:49.010162Z",
     "shell.execute_reply": "2021-05-25T18:34:49.010629Z",
     "shell.execute_reply.started": "2021-05-25T18:32:45.105823Z"
    },
    "papermill": {
     "duration": 0.053829,
     "end_time": "2021-05-25T18:34:49.010786",
     "exception": false,
     "start_time": "2021-05-25T18:34:48.956957",
     "status": "completed"
    },
    "tags": []
   },
   "outputs": [
    {
     "name": "stdout",
     "output_type": "stream",
     "text": [
      "Summer Crops\n",
      "['pigeonpeas' 'mothbeans' 'blackgram' 'mango' 'grapes' 'orange' 'papaya']\n",
      "-------------------------------------------------\n",
      "Winter Crops\n",
      "['maize' 'pigeonpeas' 'lentil' 'pomegranate' 'grapes' 'orange']\n",
      "-------------------------------------------------\n",
      "Rainy Crops\n",
      "['rice' 'papaya' 'coconut']\n"
     ]
    }
   ],
   "source": [
    "# Let's understand which crops can only be grown in summer season,winter season and rainy season.\n",
    "print('Summer Crops')\n",
    "print(data[(data['temperature']>30)&(data['humidity']>50)]['label'].unique())\n",
    "print('-------------------------------------------------')\n",
    "print('Winter Crops')\n",
    "print(data[(data['temperature']<20)&(data['humidity']>30)]['label'].unique())\n",
    "print('-------------------------------------------------')\n",
    "print('Rainy Crops')\n",
    "print(data[(data['rainfall']>200)&(data['humidity']>30)]['label'].unique())"
   ]
  },
  {
   "cell_type": "markdown",
   "id": "conscious-lightning",
   "metadata": {
    "papermill": {
     "duration": 0.037607,
     "end_time": "2021-05-25T18:34:49.085664",
     "exception": false,
     "start_time": "2021-05-25T18:34:49.048057",
     "status": "completed"
    },
    "tags": []
   },
   "source": [
    "# Clustering"
   ]
  },
  {
   "cell_type": "markdown",
   "id": "furnished-exercise",
   "metadata": {
    "papermill": {
     "duration": 0.037041,
     "end_time": "2021-05-25T18:34:49.160146",
     "exception": false,
     "start_time": "2021-05-25T18:34:49.123105",
     "status": "completed"
    },
    "tags": []
   },
   "source": [
    "#### Clustering analysis is a technique that is used to classified data points in to relative groups. we can assign similar data points in one group. same as we can build different different groups. clustering analysis can be count in unsupervised category. That means we can train our model without labels."
   ]
  },
  {
   "cell_type": "code",
   "execution_count": 15,
   "id": "aerial-cheat",
   "metadata": {
    "execution": {
     "iopub.execute_input": "2021-05-25T18:34:49.240134Z",
     "iopub.status.busy": "2021-05-25T18:34:49.239489Z",
     "iopub.status.idle": "2021-05-25T18:34:49.829071Z",
     "shell.execute_reply": "2021-05-25T18:34:49.829503Z",
     "shell.execute_reply.started": "2021-05-25T18:32:45.129775Z"
    },
    "papermill": {
     "duration": 0.632139,
     "end_time": "2021-05-25T18:34:49.829705",
     "exception": false,
     "start_time": "2021-05-25T18:34:49.197566",
     "status": "completed"
    },
    "tags": []
   },
   "outputs": [
    {
     "name": "stdout",
     "output_type": "stream",
     "text": [
      "(2200, 7)\n"
     ]
    }
   ],
   "source": [
    "from sklearn.cluster import KMeans\n",
    "\n",
    "#removing the labels column\n",
    "x=data.drop(['label'],axis=1)\n",
    "\n",
    "#selecting all the values of the data\n",
    "x=x.values\n",
    "\n",
    "#checking the shape\n",
    "print(x.shape)"
   ]
  },
  {
   "cell_type": "markdown",
   "id": "gorgeous-selection",
   "metadata": {
    "papermill": {
     "duration": 0.037524,
     "end_time": "2021-05-25T18:34:49.904908",
     "exception": false,
     "start_time": "2021-05-25T18:34:49.867384",
     "status": "completed"
    },
    "tags": []
   },
   "source": [
    "#### To perform cluster analysisi first thing is that we have to know that there is how many clusters and how many clusters we need so for this we will use Elbow method.\n",
    "##### Elbow method is way from that we can find how many clusters our model required, in this method we will plot no. of clusters with errors and find the Elbow. At which no. we will find the elbow that no. of clusters will be optimum for our model .(Elbow is a slite band)."
   ]
  },
  {
   "cell_type": "code",
   "execution_count": 16,
   "id": "fifteen-universal",
   "metadata": {
    "execution": {
     "iopub.execute_input": "2021-05-25T18:34:49.989954Z",
     "iopub.status.busy": "2021-05-25T18:34:49.988010Z",
     "iopub.status.idle": "2021-05-25T18:35:06.681508Z",
     "shell.execute_reply": "2021-05-25T18:35:06.681021Z",
     "shell.execute_reply.started": "2021-05-25T18:32:45.871334Z"
    },
    "papermill": {
     "duration": 16.737992,
     "end_time": "2021-05-25T18:35:06.681731",
     "exception": false,
     "start_time": "2021-05-25T18:34:49.943739",
     "status": "completed"
    },
    "tags": []
   },
   "outputs": [
    {
     "data": {
      "image/png": "[encoded data removed]",
      "text/plain": [
       "<Figure size 720x288 with 1 Axes>"
      ]
     },
     "metadata": {
      "needs_background": "light"
     },
     "output_type": "display_data"
    }
   ],
   "source": [
    "# Let's determine the optimum no. of clusters within dataset\n",
    "\n",
    "plt.rcParams['figure.figsize']=(10,4)\n",
    "wcss=[]\n",
    "for i in range(1,11):\n",
    "    km=KMeans(n_clusters=i,init='k-means++',max_iter=300,n_init=10,random_state=0)\n",
    "    km.fit(x)\n",
    "    wcss.append(km.inertia_)\n",
    "    \n",
    "    \n",
    "#Let's plot the results\n",
    "plt.plot(range(1,11),wcss)\n",
    "plt.title('The Elbow Method',fontsize=20)\n",
    "plt.xlabel('No. Of Clusters')\n",
    "plt.ylabel('wcss')\n",
    "plt.show()"
   ]
  },
  {
   "cell_type": "markdown",
   "id": "periodic-plain",
   "metadata": {
    "papermill": {
     "duration": 0.0382,
     "end_time": "2021-05-25T18:35:06.762087",
     "exception": false,
     "start_time": "2021-05-25T18:35:06.723887",
     "status": "completed"
    },
    "tags": []
   },
   "source": [
    "#### So here is two elbow points one is on 3 and second is on 4.\n",
    "__ques:- Which one should we choose?__\n",
    "- ans:- Simply the last one we will choose which is 4."
   ]
  },
  {
   "cell_type": "markdown",
   "id": "light-armor",
   "metadata": {
    "papermill": {
     "duration": 0.038283,
     "end_time": "2021-05-25T18:35:06.838569",
     "exception": false,
     "start_time": "2021-05-25T18:35:06.800286",
     "status": "completed"
    },
    "tags": []
   },
   "source": [
    "### Now we will impliment clustering so in this first of all we will specify KMeans function and in that we will define compulsory parameter N with the optimal no. of clusters."
   ]
  },
  {
   "cell_type": "code",
   "execution_count": 17,
   "id": "filled-finder",
   "metadata": {
    "execution": {
     "iopub.execute_input": "2021-05-25T18:35:06.924316Z",
     "iopub.status.busy": "2021-05-25T18:35:06.923653Z",
     "iopub.status.idle": "2021-05-25T18:35:08.086038Z",
     "shell.execute_reply": "2021-05-25T18:35:08.084835Z",
     "shell.execute_reply.started": "2021-05-25T18:33:03.493386Z"
    },
    "papermill": {
     "duration": 1.209668,
     "end_time": "2021-05-25T18:35:08.086182",
     "exception": false,
     "start_time": "2021-05-25T18:35:06.876514",
     "status": "completed"
    },
    "tags": []
   },
   "outputs": [
    {
     "name": "stdout",
     "output_type": "stream",
     "text": [
      "Let's check the results after applying the KMeans clustering analysis \n",
      "\n",
      "crops in first cluster: ['grapes' 'apple']\n",
      "---------------------------------------------------------\n",
      "crops in second cluster: ['maize' 'banana' 'watermelon' 'muskmelon' 'papaya' 'cotton' 'coffee']\n",
      "---------------------------------------------------------\n",
      "crops in third cluster: ['rice' 'pigeonpeas' 'papaya' 'coconut' 'jute' 'coffee']\n",
      "---------------------------------------------------------\n",
      "crops in fourth cluster: ['maize' 'chickpea' 'kidneybeans' 'pigeonpeas' 'mothbeans' 'mungbean'\n",
      " 'blackgram' 'lentil' 'pomegranate' 'mango' 'orange' 'papaya' 'coconut']\n"
     ]
    }
   ],
   "source": [
    "# Let's implement the K Means algorithm to perform clustering analysis.\n",
    "km=KMeans(n_clusters=4,init='k-means++',max_iter=300,n_init=10,random_state=0)\n",
    "y_means=km.fit_predict(x)\n",
    "\n",
    "#Let's find out the results\n",
    "a=data['label']\n",
    "y_means=pd.DataFrame(y_means)\n",
    "z=pd.concat([y_means,a],axis=1)\n",
    "z=z.rename(columns={0:'cluster'})\n",
    "\n",
    "#let's clusters of each crops\n",
    "print(\"Let's check the results after applying the KMeans clustering analysis \\n\")\n",
    "print('crops in first cluster:',z[z['cluster']==0]['label'].unique())\n",
    "print('---------------------------------------------------------')\n",
    "print('crops in second cluster:',z[z['cluster']==1]['label'].unique())\n",
    "print('---------------------------------------------------------')\n",
    "print('crops in third cluster:',z[z['cluster']==2]['label'].unique())\n",
    "print('---------------------------------------------------------')\n",
    "print('crops in fourth cluster:',z[z['cluster']==3]['label'].unique())\n"
   ]
  },
  {
   "cell_type": "markdown",
   "id": "suitable-shoot",
   "metadata": {
    "papermill": {
     "duration": 0.038357,
     "end_time": "2021-05-25T18:35:08.163278",
     "exception": false,
     "start_time": "2021-05-25T18:35:08.124921",
     "status": "completed"
    },
    "tags": []
   },
   "source": [
    "#  Predictive Model\n",
    "### Predictive model says us the sutaible crops for every specific conditions and for making this predictice model we will use machine learning model for train the dataset. \n",
    "#### Predictive modeling is also a part of AI . In any predictiive model we will make a model by using our dataset and finally when the model will train at that time we make the predictions for unseen data by using that model.\n",
    "#### In the whole process machine learning model will make the decisions rules from the data with the help of every patterns &trends which are very helpful in the final predictions.\n",
    "\n",
    "\n",
    "## How can you trust a model that gives us right predictions?\n",
    "### To check the model perfomance we have many differents types of evaluation matrixes. With the help of these matrixes we can find how much accurate is our model and how much trust we can on our model.\n",
    "\n",
    "\n",
    "## Evaluation Matrix:-\n",
    "### We use the evaluation matrix to analysis the perfomance and trust of our model. Evaluation matrix gives us a accuracy score and with the help of that score we can understand how much our model is accurate."
   ]
  },
  {
   "cell_type": "code",
   "execution_count": 18,
   "id": "downtown-hostel",
   "metadata": {
    "execution": {
     "iopub.execute_input": "2021-05-25T18:35:08.247458Z",
     "iopub.status.busy": "2021-05-25T18:35:08.246709Z",
     "iopub.status.idle": "2021-05-25T18:35:08.250209Z",
     "shell.execute_reply": "2021-05-25T18:35:08.250726Z",
     "shell.execute_reply.started": "2021-05-25T18:33:04.794215Z"
    },
    "papermill": {
     "duration": 0.048985,
     "end_time": "2021-05-25T18:35:08.250887",
     "exception": false,
     "start_time": "2021-05-25T18:35:08.201902",
     "status": "completed"
    },
    "tags": []
   },
   "outputs": [
    {
     "name": "stdout",
     "output_type": "stream",
     "text": [
      "shape of x: (2200, 7)\n",
      "shape of y: (2200,)\n"
     ]
    }
   ],
   "source": [
    "# Let's drop the label from dataset\n",
    "y=data['label']\n",
    "x=data.drop(['label'],axis=1)\n",
    "print('shape of x:',x.shape)\n",
    "print('shape of y:',y.shape)\n"
   ]
  },
  {
   "cell_type": "code",
   "execution_count": 19,
   "id": "representative-found",
   "metadata": {
    "execution": {
     "iopub.execute_input": "2021-05-25T18:35:08.336489Z",
     "iopub.status.busy": "2021-05-25T18:35:08.335716Z",
     "iopub.status.idle": "2021-05-25T18:35:08.344420Z",
     "shell.execute_reply": "2021-05-25T18:35:08.343607Z",
     "shell.execute_reply.started": "2021-05-25T18:33:04.805139Z"
    },
    "papermill": {
     "duration": 0.054378,
     "end_time": "2021-05-25T18:35:08.344598",
     "exception": false,
     "start_time": "2021-05-25T18:35:08.290220",
     "status": "completed"
    },
    "tags": []
   },
   "outputs": [
    {
     "name": "stdout",
     "output_type": "stream",
     "text": [
      "The shape of x train: (1760, 7)\n",
      "The shape of x test: (440, 7)\n",
      "The shape of y train: (1760,)\n",
      "The shape of y test: (440,)\n"
     ]
    }
   ],
   "source": [
    "#let's create training and testing sets for vaildation of results\n",
    "from sklearn.model_selection import train_test_split\n",
    "\n",
    "x_train,x_test,y_train,y_test=train_test_split(x,y,test_size=0.2,random_state=0)\n",
    "\n",
    "print('The shape of x train:',x_train.shape)\n",
    "print('The shape of x test:',x_test.shape)\n",
    "print('The shape of y train:',y_train.shape)\n",
    "print('The shape of y test:',y_test.shape)\n"
   ]
  },
  {
   "cell_type": "markdown",
   "id": "appreciated-nashville",
   "metadata": {
    "papermill": {
     "duration": 0.039238,
     "end_time": "2021-05-25T18:35:08.429481",
     "exception": false,
     "start_time": "2021-05-25T18:35:08.390243",
     "status": "completed"
    },
    "tags": []
   },
   "source": [
    "Here 0.2 is use for spliting the data into 80:20 ratio that means 80% data will go in train dataset and 20% data will go in th test dataset."
   ]
  },
  {
   "cell_type": "code",
   "execution_count": 20,
   "id": "cross-symbol",
   "metadata": {
    "execution": {
     "iopub.execute_input": "2021-05-25T18:35:08.523818Z",
     "iopub.status.busy": "2021-05-25T18:35:08.515853Z",
     "iopub.status.idle": "2021-05-25T18:35:09.023984Z",
     "shell.execute_reply": "2021-05-25T18:35:09.024934Z",
     "shell.execute_reply.started": "2021-05-25T18:33:04.825071Z"
    },
    "papermill": {
     "duration": 0.555554,
     "end_time": "2021-05-25T18:35:09.025190",
     "exception": false,
     "start_time": "2021-05-25T18:35:08.469636",
     "status": "completed"
    },
    "tags": []
   },
   "outputs": [
    {
     "name": "stderr",
     "output_type": "stream",
     "text": [
      "/opt/conda/lib/python3.7/site-packages/sklearn/linear_model/_logistic.py:765: ConvergenceWarning: lbfgs failed to converge (status=1):\n",
      "STOP: TOTAL NO. of ITERATIONS REACHED LIMIT.\n",
      "\n",
      "Increase the number of iterations (max_iter) or scale the data as shown in:\n",
      "    https://scikit-learn.org/stable/modules/preprocessing.html\n",
      "Please also refer to the documentation for alternative solver options:\n",
      "    https://scikit-learn.org/stable/modules/linear_model.html#logistic-regression\n",
      "  extra_warning_msg=_LOGISTIC_SOLVER_CONVERGENCE_MSG)\n"
     ]
    }
   ],
   "source": [
    "#let's create a predictive model \n",
    "from sklearn.linear_model import LogisticRegression\n",
    "\n",
    "model=LogisticRegression()\n",
    "model=model.fit(x_train,y_train)\n",
    "y_pred=model.predict(x_test)"
   ]
  },
  {
   "cell_type": "code",
   "execution_count": 21,
   "id": "decimal-allergy",
   "metadata": {
    "execution": {
     "iopub.execute_input": "2021-05-25T18:35:09.184006Z",
     "iopub.status.busy": "2021-05-25T18:35:09.181291Z",
     "iopub.status.idle": "2021-05-25T18:35:10.938783Z",
     "shell.execute_reply": "2021-05-25T18:35:10.938116Z",
     "shell.execute_reply.started": "2021-05-25T18:33:05.459550Z"
    },
    "papermill": {
     "duration": 1.842804,
     "end_time": "2021-05-25T18:35:10.938922",
     "exception": false,
     "start_time": "2021-05-25T18:35:09.096118",
     "status": "completed"
    },
    "tags": []
   },
   "outputs": [
    {
     "data": {
      "image/png": "[encoded data removed]",
      "text/plain": [
       "<Figure size 720x720 with 2 Axes>"
      ]
     },
     "metadata": {
      "needs_background": "light"
     },
     "output_type": "display_data"
    }
   ],
   "source": [
    "#Let's check the accuracy of model\n",
    "#First we will do prediction on test data\n",
    "#Let's calculate the model perfomance\n",
    "from sklearn.metrics import confusion_matrix\n",
    "\n",
    "#Let's print the confusion matrix first\n",
    "plt.rcParams['figure.figsize']=(10,10)\n",
    "cm=confusion_matrix(y_test,y_pred)\n",
    "sns.heatmap(cm,annot=True,cmap=\"Wistia\")\n",
    "plt.title('Confusion Matrix For Logistic Regression',fontsize=15)\n",
    "plt.show()"
   ]
  },
  {
   "cell_type": "code",
   "execution_count": 22,
   "id": "white-turner",
   "metadata": {
    "execution": {
     "iopub.execute_input": "2021-05-25T18:35:11.041379Z",
     "iopub.status.busy": "2021-05-25T18:35:11.037942Z",
     "iopub.status.idle": "2021-05-25T18:35:11.052314Z",
     "shell.execute_reply": "2021-05-25T18:35:11.052994Z",
     "shell.execute_reply.started": "2021-05-25T18:33:07.138271Z"
    },
    "papermill": {
     "duration": 0.07235,
     "end_time": "2021-05-25T18:35:11.053234",
     "exception": false,
     "start_time": "2021-05-25T18:35:10.980884",
     "status": "completed"
    },
    "tags": []
   },
   "outputs": [
    {
     "name": "stdout",
     "output_type": "stream",
     "text": [
      "              precision    recall  f1-score   support\n",
      "\n",
      "       apple       1.00      1.00      1.00        18\n",
      "      banana       1.00      1.00      1.00        18\n",
      "   blackgram       0.86      0.82      0.84        22\n",
      "    chickpea       1.00      1.00      1.00        23\n",
      "     coconut       1.00      1.00      1.00        15\n",
      "      coffee       1.00      1.00      1.00        17\n",
      "      cotton       0.89      1.00      0.94        16\n",
      "      grapes       1.00      1.00      1.00        18\n",
      "        jute       0.84      1.00      0.91        21\n",
      " kidneybeans       1.00      1.00      1.00        20\n",
      "      lentil       0.94      0.94      0.94        17\n",
      "       maize       0.94      0.89      0.91        18\n",
      "       mango       1.00      1.00      1.00        21\n",
      "   mothbeans       0.88      0.92      0.90        25\n",
      "    mungbean       1.00      1.00      1.00        17\n",
      "   muskmelon       1.00      1.00      1.00        23\n",
      "      orange       1.00      1.00      1.00        23\n",
      "      papaya       1.00      0.95      0.98        21\n",
      "  pigeonpeas       1.00      1.00      1.00        22\n",
      " pomegranate       1.00      1.00      1.00        23\n",
      "        rice       1.00      0.84      0.91        25\n",
      "  watermelon       1.00      1.00      1.00        17\n",
      "\n",
      "    accuracy                           0.97       440\n",
      "   macro avg       0.97      0.97      0.97       440\n",
      "weighted avg       0.97      0.97      0.97       440\n",
      "\n"
     ]
    }
   ],
   "source": [
    "# let's print the classification report also\n",
    "from sklearn.metrics import classification_report\n",
    "cr = classification_report(y_test,y_pred)\n",
    "print(cr)"
   ]
  },
  {
   "cell_type": "markdown",
   "id": "copyrighted-clark",
   "metadata": {
    "papermill": {
     "duration": 0.041332,
     "end_time": "2021-05-25T18:35:11.137627",
     "exception": false,
     "start_time": "2021-05-25T18:35:11.096295",
     "status": "completed"
    },
    "tags": []
   },
   "source": [
    "In this precision values and recall values of all crops are very high that means our model is very accurate."
   ]
  },
  {
   "cell_type": "code",
   "execution_count": 23,
   "id": "exterior-pakistan",
   "metadata": {
    "execution": {
     "iopub.execute_input": "2021-05-25T18:35:11.234735Z",
     "iopub.status.busy": "2021-05-25T18:35:11.233789Z",
     "iopub.status.idle": "2021-05-25T18:35:11.237645Z",
     "shell.execute_reply": "2021-05-25T18:35:11.238125Z",
     "shell.execute_reply.started": "2021-05-25T18:33:07.187519Z"
    },
    "papermill": {
     "duration": 0.058997,
     "end_time": "2021-05-25T18:35:11.238309",
     "exception": false,
     "start_time": "2021-05-25T18:35:11.179312",
     "status": "completed"
    },
    "tags": []
   },
   "outputs": [
    {
     "data": {
      "text/html": [
       "<div>\n",
       "<style scoped>\n",
       "    .dataframe tbody tr th:only-of-type {\n",
       "        vertical-align: middle;\n",
       "    }\n",
       "\n",
       "    .dataframe tbody tr th {\n",
       "        vertical-align: top;\n",
       "    }\n",
       "\n",
       "    .dataframe thead th {\n",
       "        text-align: right;\n",
       "    }\n",
       "</style>\n",
       "<table border=\"1\" class=\"dataframe\">\n",
       "  <thead>\n",
       "    <tr style=\"text-align: right;\">\n",
       "      <th></th>\n",
       "      <th>N</th>\n",
       "      <th>P</th>\n",
       "      <th>K</th>\n",
       "      <th>temperature</th>\n",
       "      <th>humidity</th>\n",
       "      <th>ph</th>\n",
       "      <th>rainfall</th>\n",
       "      <th>label</th>\n",
       "    </tr>\n",
       "  </thead>\n",
       "  <tbody>\n",
       "    <tr>\n",
       "      <th>0</th>\n",
       "      <td>90</td>\n",
       "      <td>42</td>\n",
       "      <td>43</td>\n",
       "      <td>20.879744</td>\n",
       "      <td>82.002744</td>\n",
       "      <td>6.502985</td>\n",
       "      <td>202.935536</td>\n",
       "      <td>rice</td>\n",
       "    </tr>\n",
       "    <tr>\n",
       "      <th>1</th>\n",
       "      <td>85</td>\n",
       "      <td>58</td>\n",
       "      <td>41</td>\n",
       "      <td>21.770462</td>\n",
       "      <td>80.319644</td>\n",
       "      <td>7.038096</td>\n",
       "      <td>226.655537</td>\n",
       "      <td>rice</td>\n",
       "    </tr>\n",
       "    <tr>\n",
       "      <th>2</th>\n",
       "      <td>60</td>\n",
       "      <td>55</td>\n",
       "      <td>44</td>\n",
       "      <td>23.004459</td>\n",
       "      <td>82.320763</td>\n",
       "      <td>7.840207</td>\n",
       "      <td>263.964248</td>\n",
       "      <td>rice</td>\n",
       "    </tr>\n",
       "    <tr>\n",
       "      <th>3</th>\n",
       "      <td>74</td>\n",
       "      <td>35</td>\n",
       "      <td>40</td>\n",
       "      <td>26.491096</td>\n",
       "      <td>80.158363</td>\n",
       "      <td>6.980401</td>\n",
       "      <td>242.864034</td>\n",
       "      <td>rice</td>\n",
       "    </tr>\n",
       "    <tr>\n",
       "      <th>4</th>\n",
       "      <td>78</td>\n",
       "      <td>42</td>\n",
       "      <td>42</td>\n",
       "      <td>20.130175</td>\n",
       "      <td>81.604873</td>\n",
       "      <td>7.628473</td>\n",
       "      <td>262.717340</td>\n",
       "      <td>rice</td>\n",
       "    </tr>\n",
       "  </tbody>\n",
       "</table>\n",
       "</div>"
      ],
      "text/plain": [
       "    N   P   K  temperature   humidity        ph    rainfall label\n",
       "0  90  42  43    20.879744  82.002744  6.502985  202.935536  rice\n",
       "1  85  58  41    21.770462  80.319644  7.038096  226.655537  rice\n",
       "2  60  55  44    23.004459  82.320763  7.840207  263.964248  rice\n",
       "3  74  35  40    26.491096  80.158363  6.980401  242.864034  rice\n",
       "4  78  42  42    20.130175  81.604873  7.628473  262.717340  rice"
      ]
     },
     "execution_count": 23,
     "metadata": {},
     "output_type": "execute_result"
    }
   ],
   "source": [
    "#let's check the head of the dataset\n",
    "data.head()"
   ]
  },
  {
   "cell_type": "code",
   "execution_count": 24,
   "id": "accredited-vertical",
   "metadata": {
    "execution": {
     "iopub.execute_input": "2021-05-25T18:35:11.329097Z",
     "iopub.status.busy": "2021-05-25T18:35:11.328471Z",
     "iopub.status.idle": "2021-05-25T18:35:11.333141Z",
     "shell.execute_reply": "2021-05-25T18:35:11.332494Z",
     "shell.execute_reply.started": "2021-05-25T18:33:07.205235Z"
    },
    "papermill": {
     "duration": 0.052078,
     "end_time": "2021-05-25T18:35:11.333274",
     "exception": false,
     "start_time": "2021-05-25T18:35:11.281196",
     "status": "completed"
    },
    "tags": []
   },
   "outputs": [
    {
     "name": "stdout",
     "output_type": "stream",
     "text": [
      "The suggested crop for given climatic condition is: ['rice']\n"
     ]
    }
   ],
   "source": [
    "prediction=model.predict((np.array([[90,\n",
    "                                    42,\n",
    "                                    43,\n",
    "                                    20,\n",
    "                                    80,\n",
    "                                    7,\n",
    "                                    200]])))\n",
    "print('The suggested crop for given climatic condition is:',prediction)"
   ]
  }
 ],
 "metadata": {
  "kernelspec": {
   "display_name": "Python 3",
   "language": "python",
   "name": "python3"
  },
  "language_info": {
   "codemirror_mode": {
    "name": "ipython",
    "version": 3
   },
   "file_extension": ".py",
   "mimetype": "text/x-python",
   "name": "python",
   "nbconvert_exporter": "python",
   "pygments_lexer": "ipython3",
   "version": "3.7.9"
  },
  "papermill": {
   "default_parameters": {},
   "duration": 40.968028,
   "end_time": "2021-05-25T18:35:12.085443",
   "environment_variables": {},
   "exception": null,
   "input_path": "__notebook__.ipynb",
   "output_path": "__notebook__.ipynb",
   "parameters": {},
   "start_time": "2021-05-25T18:34:31.117415",
   "version": "2.3.2"
  },
  "widgets": {
   "application/vnd.jupyter.widget-state+json": {
    "state": {
     "00b914d47f894d29a90e8d47e74d597e": {
      "model_module": "@jupyter-widgets/base",
      "model_module_version": "1.2.0",
      "model_name": "LayoutModel",
      "state": {
       "_model_module": "@jupyter-widgets/base",
       "_model_module_version": "1.2.0",
       "_model_name": "LayoutModel",
       "_view_count": null,
       "_view_module": "@jupyter-widgets/base",
       "_view_module_version": "1.2.0",
       "_view_name": "LayoutView",
       "align_content": null,
       "align_items": null,
       "align_self": null,
       "border": null,
       "bottom": null,
       "display": null,
       "flex": null,
       "flex_flow": null,
       "grid_area": null,
       "grid_auto_columns": null,
       "grid_auto_flow": null,
       "grid_auto_rows": null,
       "grid_column": null,
       "grid_gap": null,
       "grid_row": null,
       "grid_template_areas": null,
       "grid_template_columns": null,
       "grid_template_rows": null,
       "height": null,
       "justify_content": null,
       "justify_items": null,
       "left": null,
       "margin": null,
       "max_height": null,
       "max_width": null,
       "min_height": null,
       "min_width": null,
       "object_fit": null,
       "object_position": null,
       "order": null,
       "overflow": null,
       "overflow_x": null,
       "overflow_y": null,
       "padding": null,
       "right": null,
       "top": null,
       "visibility": null,
       "width": null
      }
     },
     "0249bd5e8798483597bda950e488c6a9": {
      "model_module": "@jupyter-widgets/controls",
      "model_module_version": "1.5.0",
      "model_name": "DescriptionStyleModel",
      "state": {
       "_model_module": "@jupyter-widgets/controls",
       "_model_module_version": "1.5.0",
       "_model_name": "DescriptionStyleModel",
       "_view_count": null,
       "_view_module": "@jupyter-widgets/base",
       "_view_module_version": "1.2.0",
       "_view_name": "StyleView",
       "description_width": ""
      }
     },
     "11884594a6894029950f2a03d68428e8": {
      "model_module": "@jupyter-widgets/base",
      "model_module_version": "1.2.0",
      "model_name": "LayoutModel",
      "state": {
       "_model_module": "@jupyter-widgets/base",
       "_model_module_version": "1.2.0",
       "_model_name": "LayoutModel",
       "_view_count": null,
       "_view_module": "@jupyter-widgets/base",
       "_view_module_version": "1.2.0",
       "_view_name": "LayoutView",
       "align_content": null,
       "align_items": null,
       "align_self": null,
       "border": null,
       "bottom": null,
       "display": null,
       "flex": null,
       "flex_flow": null,
       "grid_area": null,
       "grid_auto_columns": null,
       "grid_auto_flow": null,
       "grid_auto_rows": null,
       "grid_column": null,
       "grid_gap": null,
       "grid_row": null,
       "grid_template_areas": null,
       "grid_template_columns": null,
       "grid_template_rows": null,
       "height": null,
       "justify_content": null,
       "justify_items": null,
       "left": null,
       "margin": null,
       "max_height": null,
       "max_width": null,
       "min_height": null,
       "min_width": null,
       "object_fit": null,
       "object_position": null,
       "order": null,
       "overflow": null,
       "overflow_x": null,
       "overflow_y": null,
       "padding": null,
       "right": null,
       "top": null,
       "visibility": null,
       "width": null
      }
     },
     "15b32f3b6ef44271ae1b81e16e9fc355": {
      "model_module": "@jupyter-widgets/controls",
      "model_module_version": "1.5.0",
      "model_name": "DropdownModel",
      "state": {
       "_dom_classes": [],
       "_model_module": "@jupyter-widgets/controls",
       "_model_module_version": "1.5.0",
       "_model_name": "DropdownModel",
       "_options_labels": [
        "N",
        "K",
        "P",
        "temperature",
        "ph",
        "humidity",
        "rainfall"
       ],
       "_view_count": null,
       "_view_module": "@jupyter-widgets/controls",
       "_view_module_version": "1.5.0",
       "_view_name": "DropdownView",
       "description": "conditions",
       "description_tooltip": null,
       "disabled": false,
       "index": 0,
       "layout": "IPY_MODEL_90805ee8e0af4133a86e69593c13eeaf",
       "style": "IPY_MODEL_34ef6a1352de4bc9b2fce37d612072c1"
      }
     },
     "1b015a859e1144a0a7e4660768e6bb9e": {
      "model_module": "@jupyter-widgets/controls",
      "model_module_version": "1.5.0",
      "model_name": "VBoxModel",
      "state": {
       "_dom_classes": [
        "widget-interact"
       ],
       "_model_module": "@jupyter-widgets/controls",
       "_model_module_version": "1.5.0",
       "_model_name": "VBoxModel",
       "_view_count": null,
       "_view_module": "@jupyter-widgets/controls",
       "_view_module_version": "1.5.0",
       "_view_name": "VBoxView",
       "box_style": "",
       "children": [
        "IPY_MODEL_927ffcfebfc646e8bb42611f83c30681",
        "IPY_MODEL_7c238f0e90e1432f9e0b248e4439d70f"
       ],
       "layout": "IPY_MODEL_ca2a7ec0a3d446dc9c3386255fda7db4"
      }
     },
     "1b8ebff540444014adc5470c224a20a0": {
      "model_module": "@jupyter-widgets/base",
      "model_module_version": "1.2.0",
      "model_name": "LayoutModel",
      "state": {
       "_model_module": "@jupyter-widgets/base",
       "_model_module_version": "1.2.0",
       "_model_name": "LayoutModel",
       "_view_count": null,
       "_view_module": "@jupyter-widgets/base",
       "_view_module_version": "1.2.0",
       "_view_name": "LayoutView",
       "align_content": null,
       "align_items": null,
       "align_self": null,
       "border": null,
       "bottom": null,
       "display": null,
       "flex": null,
       "flex_flow": null,
       "grid_area": null,
       "grid_auto_columns": null,
       "grid_auto_flow": null,
       "grid_auto_rows": null,
       "grid_column": null,
       "grid_gap": null,
       "grid_row": null,
       "grid_template_areas": null,
       "grid_template_columns": null,
       "grid_template_rows": null,
       "height": null,
       "justify_content": null,
       "justify_items": null,
       "left": null,
       "margin": null,
       "max_height": null,
       "max_width": null,
       "min_height": null,
       "min_width": null,
       "object_fit": null,
       "object_position": null,
       "order": null,
       "overflow": null,
       "overflow_x": null,
       "overflow_y": null,
       "padding": null,
       "right": null,
       "top": null,
       "visibility": null,
       "width": null
      }
     },
     "249c97e700cc42bbb828f0f404678e8d": {
      "model_module": "@jupyter-widgets/controls",
      "model_module_version": "1.5.0",
      "model_name": "VBoxModel",
      "state": {
       "_dom_classes": [
        "widget-interact"
       ],
       "_model_module": "@jupyter-widgets/controls",
       "_model_module_version": "1.5.0",
       "_model_name": "VBoxModel",
       "_view_count": null,
       "_view_module": "@jupyter-widgets/controls",
       "_view_module_version": "1.5.0",
       "_view_name": "VBoxView",
       "box_style": "",
       "children": [
        "IPY_MODEL_15b32f3b6ef44271ae1b81e16e9fc355",
        "IPY_MODEL_d152c04551ae4b8cad2d18b27a6a5268"
       ],
       "layout": "IPY_MODEL_94f456c720a64f8ab6d46ada7c010baf"
      }
     },
     "2ff9bb32f0e1475e94ed340fec596f38": {
      "model_module": "@jupyter-widgets/controls",
      "model_module_version": "1.5.0",
      "model_name": "VBoxModel",
      "state": {
       "_dom_classes": [
        "widget-interact"
       ],
       "_model_module": "@jupyter-widgets/controls",
       "_model_module_version": "1.5.0",
       "_model_name": "VBoxModel",
       "_view_count": null,
       "_view_module": "@jupyter-widgets/controls",
       "_view_module_version": "1.5.0",
       "_view_name": "VBoxView",
       "box_style": "",
       "children": [
        "IPY_MODEL_c9f62c04fa3d4448a89e544085db7b48",
        "IPY_MODEL_338cee9ccc0b44e3a18c799cc3333bc0"
       ],
       "layout": "IPY_MODEL_dc31e66b6ec9456b863f15faf7ce77e2"
      }
     },
     "338cee9ccc0b44e3a18c799cc3333bc0": {
      "model_module": "@jupyter-widgets/output",
      "model_module_version": "1.0.0",
      "model_name": "OutputModel",
      "state": {
       "_dom_classes": [],
       "_model_module": "@jupyter-widgets/output",
       "_model_module_version": "1.0.0",
       "_model_name": "OutputModel",
       "_view_count": null,
       "_view_module": "@jupyter-widgets/output",
       "_view_module_version": "1.0.0",
       "_view_name": "OutputView",
       "layout": "IPY_MODEL_00b914d47f894d29a90e8d47e74d597e",
       "msg_id": "",
       "outputs": [
        {
         "name": "stdout",
         "output_type": "stream",
         "text": "-----------------------------------------------\nstatistics for nitrogen\nMinimum nitrogen required: 0\nAverage nitrogen required: 20.75\nMaximum nitrogen required: 40\n-----------------------------------------------\nstatistics for phosphorous\nMinimum phosphorous required: 55\nAverage phosphorous required: 67.54\nMaximum phosphorous required: 80\n-----------------------------------------------\nstatistics for potassium\nMinimum potassium required: 15\nAverage potassium required: 20.05\nMaximum potassium required: 25\n-----------------------------------------------\nstatistics for temperature\nMinimum temperature required: 15.33\nAverage temperature required: 20.12\nMaximum temperature required: 24.92\n-----------------------------------------------\nstatistics for humidity\nMinimum humidity required: 18.09\nAverage humidity required: 21.61\nMaximum humidity required: 24.97\n-----------------------------------------------\nstatistics for ph\nMinimum ph required: 5.50\nAverage ph required: 5.75\nMaximum ph required: 6.00\n-----------------------------------------------\nstatistics for rainfall\nMinimum rainfall required: 60.28\nAverage rainfall required: 105.92\nMaximum rainfall required: 149.74\n"
        }
       ]
      }
     },
     "34ef6a1352de4bc9b2fce37d612072c1": {
      "model_module": "@jupyter-widgets/controls",
      "model_module_version": "1.5.0",
      "model_name": "DescriptionStyleModel",
      "state": {
       "_model_module": "@jupyter-widgets/controls",
       "_model_module_version": "1.5.0",
       "_model_name": "DescriptionStyleModel",
       "_view_count": null,
       "_view_module": "@jupyter-widgets/base",
       "_view_module_version": "1.2.0",
       "_view_name": "StyleView",
       "description_width": ""
      }
     },
     "7c238f0e90e1432f9e0b248e4439d70f": {
      "model_module": "@jupyter-widgets/output",
      "model_module_version": "1.0.0",
      "model_name": "OutputModel",
      "state": {
       "_dom_classes": [],
       "_model_module": "@jupyter-widgets/output",
       "_model_module_version": "1.0.0",
       "_model_name": "OutputModel",
       "_view_count": null,
       "_view_module": "@jupyter-widgets/output",
       "_view_module_version": "1.0.0",
       "_view_name": "OutputView",
       "layout": "IPY_MODEL_e224d3fddeb34885b64fa30ce86335be",
       "msg_id": "",
       "outputs": [
        {
         "name": "stdout",
         "output_type": "stream",
         "text": "crops which require greater than average N \n\n['rice' 'maize' 'chickpea' 'blackgram' 'banana' 'watermelon' 'muskmelon'\n 'papaya' 'cotton' 'jute' 'coffee']\n----------------------------------------------\ncrops which require less than average N \n\n['chickpea' 'kidneybeans' 'pigeonpeas' 'mothbeans' 'mungbean' 'blackgram'\n 'lentil' 'pomegranate' 'mango' 'grapes' 'apple' 'orange' 'papaya'\n 'coconut']\n"
        }
       ]
      }
     },
     "90805ee8e0af4133a86e69593c13eeaf": {
      "model_module": "@jupyter-widgets/base",
      "model_module_version": "1.2.0",
      "model_name": "LayoutModel",
      "state": {
       "_model_module": "@jupyter-widgets/base",
       "_model_module_version": "1.2.0",
       "_model_name": "LayoutModel",
       "_view_count": null,
       "_view_module": "@jupyter-widgets/base",
       "_view_module_version": "1.2.0",
       "_view_name": "LayoutView",
       "align_content": null,
       "align_items": null,
       "align_self": null,
       "border": null,
       "bottom": null,
       "display": null,
       "flex": null,
       "flex_flow": null,
       "grid_area": null,
       "grid_auto_columns": null,
       "grid_auto_flow": null,
       "grid_auto_rows": null,
       "grid_column": null,
       "grid_gap": null,
       "grid_row": null,
       "grid_template_areas": null,
       "grid_template_columns": null,
       "grid_template_rows": null,
       "height": null,
       "justify_content": null,
       "justify_items": null,
       "left": null,
       "margin": null,
       "max_height": null,
       "max_width": null,
       "min_height": null,
       "min_width": null,
       "object_fit": null,
       "object_position": null,
       "order": null,
       "overflow": null,
       "overflow_x": null,
       "overflow_y": null,
       "padding": null,
       "right": null,
       "top": null,
       "visibility": null,
       "width": null
      }
     },
     "927ffcfebfc646e8bb42611f83c30681": {
      "model_module": "@jupyter-widgets/controls",
      "model_module_version": "1.5.0",
      "model_name": "DropdownModel",
      "state": {
       "_dom_classes": [],
       "_model_module": "@jupyter-widgets/controls",
       "_model_module_version": "1.5.0",
       "_model_name": "DropdownModel",
       "_options_labels": [
        "N",
        "P",
        "K",
        "temperature",
        "humidity",
        "ph",
        "rainfall"
       ],
       "_view_count": null,
       "_view_module": "@jupyter-widgets/controls",
       "_view_module_version": "1.5.0",
       "_view_name": "DropdownView",
       "description": "conditions",
       "description_tooltip": null,
       "disabled": false,
       "index": 0,
       "layout": "IPY_MODEL_1b8ebff540444014adc5470c224a20a0",
       "style": "IPY_MODEL_c704459e274b470499889b10f1c9ece4"
      }
     },
     "94f456c720a64f8ab6d46ada7c010baf": {
      "model_module": "@jupyter-widgets/base",
      "model_module_version": "1.2.0",
      "model_name": "LayoutModel",
      "state": {
       "_model_module": "@jupyter-widgets/base",
       "_model_module_version": "1.2.0",
       "_model_name": "LayoutModel",
       "_view_count": null,
       "_view_module": "@jupyter-widgets/base",
       "_view_module_version": "1.2.0",
       "_view_name": "LayoutView",
       "align_content": null,
       "align_items": null,
       "align_self": null,
       "border": null,
       "bottom": null,
       "display": null,
       "flex": null,
       "flex_flow": null,
       "grid_area": null,
       "grid_auto_columns": null,
       "grid_auto_flow": null,
       "grid_auto_rows": null,
       "grid_column": null,
       "grid_gap": null,
       "grid_row": null,
       "grid_template_areas": null,
       "grid_template_columns": null,
       "grid_template_rows": null,
       "height": null,
       "justify_content": null,
       "justify_items": null,
       "left": null,
       "margin": null,
       "max_height": null,
       "max_width": null,
       "min_height": null,
       "min_width": null,
       "object_fit": null,
       "object_position": null,
       "order": null,
       "overflow": null,
       "overflow_x": null,
       "overflow_y": null,
       "padding": null,
       "right": null,
       "top": null,
       "visibility": null,
       "width": null
      }
     },
     "b07cbaf1c1c04603a76973c8a3cbb51e": {
      "model_module": "@jupyter-widgets/base",
      "model_module_version": "1.2.0",
      "model_name": "LayoutModel",
      "state": {
       "_model_module": "@jupyter-widgets/base",
       "_model_module_version": "1.2.0",
       "_model_name": "LayoutModel",
       "_view_count": null,
       "_view_module": "@jupyter-widgets/base",
       "_view_module_version": "1.2.0",
       "_view_name": "LayoutView",
       "align_content": null,
       "align_items": null,
       "align_self": null,
       "border": null,
       "bottom": null,
       "display": null,
       "flex": null,
       "flex_flow": null,
       "grid_area": null,
       "grid_auto_columns": null,
       "grid_auto_flow": null,
       "grid_auto_rows": null,
       "grid_column": null,
       "grid_gap": null,
       "grid_row": null,
       "grid_template_areas": null,
       "grid_template_columns": null,
       "grid_template_rows": null,
       "height": null,
       "justify_content": null,
       "justify_items": null,
       "left": null,
       "margin": null,
       "max_height": null,
       "max_width": null,
       "min_height": null,
       "min_width": null,
       "object_fit": null,
       "object_position": null,
       "order": null,
       "overflow": null,
       "overflow_x": null,
       "overflow_y": null,
       "padding": null,
       "right": null,
       "top": null,
       "visibility": null,
       "width": null
      }
     },
     "c704459e274b470499889b10f1c9ece4": {
      "model_module": "@jupyter-widgets/controls",
      "model_module_version": "1.5.0",
      "model_name": "DescriptionStyleModel",
      "state": {
       "_model_module": "@jupyter-widgets/controls",
       "_model_module_version": "1.5.0",
       "_model_name": "DescriptionStyleModel",
       "_view_count": null,
       "_view_module": "@jupyter-widgets/base",
       "_view_module_version": "1.2.0",
       "_view_name": "StyleView",
       "description_width": ""
      }
     },
     "c9f62c04fa3d4448a89e544085db7b48": {
      "model_module": "@jupyter-widgets/controls",
      "model_module_version": "1.5.0",
      "model_name": "DropdownModel",
      "state": {
       "_dom_classes": [],
       "_model_module": "@jupyter-widgets/controls",
       "_model_module_version": "1.5.0",
       "_model_name": "DropdownModel",
       "_options_labels": [
        "kidneybeans",
        "coconut",
        "pigeonpeas",
        "pomegranate",
        "lentil",
        "papaya",
        "muskmelon",
        "watermelon",
        "chickpea",
        "banana",
        "orange",
        "coffee",
        "mothbeans",
        "mango",
        "cotton",
        "blackgram",
        "jute",
        "rice",
        "grapes",
        "mungbean",
        "apple",
        "maize"
       ],
       "_view_count": null,
       "_view_module": "@jupyter-widgets/controls",
       "_view_module_version": "1.5.0",
       "_view_name": "DropdownView",
       "description": "crops",
       "description_tooltip": null,
       "disabled": false,
       "index": 0,
       "layout": "IPY_MODEL_b07cbaf1c1c04603a76973c8a3cbb51e",
       "style": "IPY_MODEL_0249bd5e8798483597bda950e488c6a9"
      }
     },
     "ca2a7ec0a3d446dc9c3386255fda7db4": {
      "model_module": "@jupyter-widgets/base",
      "model_module_version": "1.2.0",
      "model_name": "LayoutModel",
      "state": {
       "_model_module": "@jupyter-widgets/base",
       "_model_module_version": "1.2.0",
       "_model_name": "LayoutModel",
       "_view_count": null,
       "_view_module": "@jupyter-widgets/base",
       "_view_module_version": "1.2.0",
       "_view_name": "LayoutView",
       "align_content": null,
       "align_items": null,
       "align_self": null,
       "border": null,
       "bottom": null,
       "display": null,
       "flex": null,
       "flex_flow": null,
       "grid_area": null,
       "grid_auto_columns": null,
       "grid_auto_flow": null,
       "grid_auto_rows": null,
       "grid_column": null,
       "grid_gap": null,
       "grid_row": null,
       "grid_template_areas": null,
       "grid_template_columns": null,
       "grid_template_rows": null,
       "height": null,
       "justify_content": null,
       "justify_items": null,
       "left": null,
       "margin": null,
       "max_height": null,
       "max_width": null,
       "min_height": null,
       "min_width": null,
       "object_fit": null,
       "object_position": null,
       "order": null,
       "overflow": null,
       "overflow_x": null,
       "overflow_y": null,
       "padding": null,
       "right": null,
       "top": null,
       "visibility": null,
       "width": null
      }
     },
     "d152c04551ae4b8cad2d18b27a6a5268": {
      "model_module": "@jupyter-widgets/output",
      "model_module_version": "1.0.0",
      "model_name": "OutputModel",
      "state": {
       "_dom_classes": [],
       "_model_module": "@jupyter-widgets/output",
       "_model_module_version": "1.0.0",
       "_model_name": "OutputModel",
       "_view_count": null,
       "_view_module": "@jupyter-widgets/output",
       "_view_module_version": "1.0.0",
       "_view_name": "OutputView",
       "layout": "IPY_MODEL_11884594a6894029950f2a03d68428e8",
       "msg_id": "",
       "outputs": [
        {
         "name": "stdout",
         "output_type": "stream",
         "text": "Average value for N is 50.55\n----------------------------------------------------------------------\nRice:79.89\nBlack Grams:40.02\nBanana:100.23\nJute:78.40\nCoconut:21.98\nApple:20.80\nPapaya:49.88\nMuskmelon:100.32\nGrapes:23.18\nWatermelon:99.42\nKidney Beans:20.75\nMung Beans:nan\nOranges:nan\nChick Peas:nan\nLentils:nan\nCotton:117.77\nMaize:77.76\nMoth Beans:21.44\nPigeon Beans:nan\nMango:20.07\nPomegranate:18.87\nCoffee:101.20\n"
        }
       ]
      }
     },
     "dc31e66b6ec9456b863f15faf7ce77e2": {
      "model_module": "@jupyter-widgets/base",
      "model_module_version": "1.2.0",
      "model_name": "LayoutModel",
      "state": {
       "_model_module": "@jupyter-widgets/base",
       "_model_module_version": "1.2.0",
       "_model_name": "LayoutModel",
       "_view_count": null,
       "_view_module": "@jupyter-widgets/base",
       "_view_module_version": "1.2.0",
       "_view_name": "LayoutView",
       "align_content": null,
       "align_items": null,
       "align_self": null,
       "border": null,
       "bottom": null,
       "display": null,
       "flex": null,
       "flex_flow": null,
       "grid_area": null,
       "grid_auto_columns": null,
       "grid_auto_flow": null,
       "grid_auto_rows": null,
       "grid_column": null,
       "grid_gap": null,
       "grid_row": null,
       "grid_template_areas": null,
       "grid_template_columns": null,
       "grid_template_rows": null,
       "height": null,
       "justify_content": null,
       "justify_items": null,
       "left": null,
       "margin": null,
       "max_height": null,
       "max_width": null,
       "min_height": null,
       "min_width": null,
       "object_fit": null,
       "object_position": null,
       "order": null,
       "overflow": null,
       "overflow_x": null,
       "overflow_y": null,
       "padding": null,
       "right": null,
       "top": null,
       "visibility": null,
       "width": null
      }
     },
     "e224d3fddeb34885b64fa30ce86335be": {
      "model_module": "@jupyter-widgets/base",
      "model_module_version": "1.2.0",
      "model_name": "LayoutModel",
      "state": {
       "_model_module": "@jupyter-widgets/base",
       "_model_module_version": "1.2.0",
       "_model_name": "LayoutModel",
       "_view_count": null,
       "_view_module": "@jupyter-widgets/base",
       "_view_module_version": "1.2.0",
       "_view_name": "LayoutView",
       "align_content": null,
       "align_items": null,
       "align_self": null,
       "border": null,
       "bottom": null,
       "display": null,
       "flex": null,
       "flex_flow": null,
       "grid_area": null,
       "grid_auto_columns": null,
       "grid_auto_flow": null,
       "grid_auto_rows": null,
       "grid_column": null,
       "grid_gap": null,
       "grid_row": null,
       "grid_template_areas": null,
       "grid_template_columns": null,
       "grid_template_rows": null,
       "height": null,
       "justify_content": null,
       "justify_items": null,
       "left": null,
       "margin": null,
       "max_height": null,
       "max_width": null,
       "min_height": null,
       "min_width": null,
       "object_fit": null,
       "object_position": null,
       "order": null,
       "overflow": null,
       "overflow_x": null,
       "overflow_y": null,
       "padding": null,
       "right": null,
       "top": null,
       "visibility": null,
       "width": null
      }
     }
    },
    "version_major": 2,
    "version_minor": 0
   }
  }
 },
 "nbformat": 4,
 "nbformat_minor": 5
}
